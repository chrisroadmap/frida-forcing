{
 "cells": [
  {
   "cell_type": "markdown",
   "id": "257175cd",
   "metadata": {},
   "source": [
    "# Prune the AR6 database climate dump\n",
    "\n",
    "All we want is the 1202 vetted scenarios from FaIR v1.6.2 with\n",
    "- total anthro forcing (50th percentile)\n",
    "- CO2 forcing (50th percentile)\n",
    "- CH4 forcing (50th percentile)\n",
    "- N2O forcing (50th percentile)"
   ]
  },
  {
   "cell_type": "code",
   "execution_count": null,
   "id": "c005c0f1",
   "metadata": {},
   "outputs": [],
   "source": [
    "import pandas as pd\n",
    "from tqdm.auto import tqdm"
   ]
  },
  {
   "cell_type": "code",
   "execution_count": null,
   "id": "91c54a32",
   "metadata": {},
   "outputs": [],
   "source": [
    "ar6_df = pd.read_csv('../scenario_data/1668008030411-AR6_Scenarios_Database_World_ALL_CLIMATE_v1/AR6_Scenarios_Database_World_ALL_CLIMATE_v1.1.csv')"
   ]
  },
  {
   "cell_type": "code",
   "execution_count": null,
   "id": "879afb9e",
   "metadata": {},
   "outputs": [],
   "source": [
    "ar6_df"
   ]
  },
  {
   "cell_type": "code",
   "execution_count": null,
   "id": "c60c709e",
   "metadata": {},
   "outputs": [],
   "source": [
    "xl = pd.ExcelFile('../scenario_data/1668008030411-AR6_Scenarios_Database_World_ALL_CLIMATE_v1/AR6_Scenarios_Database_metadata_indicators_v1.1.xlsx')\n",
    "xl.sheet_names"
   ]
  },
  {
   "cell_type": "code",
   "execution_count": null,
   "id": "95b5882d",
   "metadata": {},
   "outputs": [],
   "source": [
    "meta_df = xl.parse('meta')"
   ]
  },
  {
   "cell_type": "code",
   "execution_count": null,
   "id": "8a158070",
   "metadata": {},
   "outputs": [],
   "source": [
    "wanted_vars = [\n",
    "    'AR6 climate diagnostics|Effective Radiative Forcing|Basket|Anthropogenic|FaIRv1.6.2|50.0th Percentile',\n",
    "    'AR6 climate diagnostics|Effective Radiative Forcing|CO2|FaIRv1.6.2|50.0th Percentile',\n",
    "    'AR6 climate diagnostics|Effective Radiative Forcing|CH4|FaIRv1.6.2|50.0th Percentile',\n",
    "    'AR6 climate diagnostics|Effective Radiative Forcing|N2O|FaIRv1.6.2|50.0th Percentile',\n",
    "    'AR6 climate diagnostics|Harmonized|Emissions|CO2|Energy and Industrial Processes',\n",
    "    'AR6 climate diagnostics|Effective Radiative Forcing|FaIRv1.6.2|50.0th Percentile',\n",
    "]"
   ]
  },
  {
   "cell_type": "code",
   "execution_count": null,
   "id": "254cea72",
   "metadata": {},
   "outputs": [],
   "source": [
    "new_df = pd.DataFrame(columns = ar6_df.columns)\n",
    "new_df"
   ]
  },
  {
   "cell_type": "code",
   "execution_count": null,
   "id": "597a596c",
   "metadata": {},
   "outputs": [],
   "source": [
    "for ms, _ in tqdm(meta_df[meta_df['Category'].isin([f'C{i}' for i in range(1, 9)])].groupby([\"Model\", \"Scenario\"])):\n",
    "    model = ms[0]\n",
    "    scenario = ms[1]\n",
    "    #ar6_df.loc[(ar6_df[\"Model\"]==model)&(ar6_df[\"Scenario\"]==scenario)&(ar6_df[\"Variable\"].isin(wanted_vars))]\n",
    "    new_df = pd.concat(\n",
    "        [\n",
    "            new_df,\n",
    "            ar6_df.loc[\n",
    "                (ar6_df[\"Model\"]==model)&(ar6_df[\"Scenario\"]==scenario)&(ar6_df[\"Variable\"].isin(wanted_vars))\n",
    "            ]\n",
    "        ]\n",
    "    )"
   ]
  },
  {
   "cell_type": "code",
   "execution_count": null,
   "id": "9a0097f8",
   "metadata": {},
   "outputs": [],
   "source": [
    "#list(ar6_df.Variable.unique())"
   ]
  },
  {
   "cell_type": "code",
   "execution_count": null,
   "id": "c6725b99",
   "metadata": {},
   "outputs": [],
   "source": [
    "new_df"
   ]
  },
  {
   "cell_type": "code",
   "execution_count": null,
   "id": "57c0bde6",
   "metadata": {},
   "outputs": [],
   "source": [
    "othererf_df = pd.DataFrame(columns = ar6_df.columns)"
   ]
  },
  {
   "cell_type": "code",
   "execution_count": null,
   "id": "4afca405",
   "metadata": {},
   "outputs": [],
   "source": [
    "for idx, (ms, _) in tqdm(enumerate(new_df.groupby([\"Model\", \"Scenario\"]))):\n",
    "    model = ms[0]\n",
    "    scenario = ms[1]\n",
    "    othererf_df.loc[idx, 'Model'] = model\n",
    "    othererf_df.loc[idx, 'Scenario'] = scenario\n",
    "    othererf_df.loc[idx, 'Variable'] = 'AR6 climate diagnostics|Effective Radiative Forcing|Basket|Anthropogenic non-CO2-CH4-N2O|FaIRv1.6.2|50.0th Percentile'\n",
    "    othererf_df.loc[idx, 'Region'] = 'World'\n",
    "    othererf_df.loc[idx, 'Unit'] = 'W/m^2'\n",
    "    othererf_df.loc[idx, '1995':] = (\n",
    "        new_df.loc[\n",
    "            (new_df[\"Model\"]==model)&\n",
    "            (new_df[\"Scenario\"]==scenario)&\n",
    "            (new_df[\"Variable\"]=='AR6 climate diagnostics|Effective Radiative Forcing|Basket|Anthropogenic|FaIRv1.6.2|50.0th Percentile'),\n",
    "        '1995':].values-new_df.loc[\n",
    "            (new_df[\"Model\"]==model)&\n",
    "            (new_df[\"Scenario\"]==scenario)&\n",
    "            (new_df[\"Variable\"]=='AR6 climate diagnostics|Effective Radiative Forcing|CO2|FaIRv1.6.2|50.0th Percentile'),\n",
    "        '1995':].values-new_df.loc[\n",
    "            (new_df[\"Model\"]==model)&\n",
    "            (new_df[\"Scenario\"]==scenario)&\n",
    "            (new_df[\"Variable\"]=='AR6 climate diagnostics|Effective Radiative Forcing|CH4|FaIRv1.6.2|50.0th Percentile'),\n",
    "        '1995':].values-new_df.loc[\n",
    "            (new_df[\"Model\"]==model)&\n",
    "            (new_df[\"Scenario\"]==scenario)&\n",
    "            (new_df[\"Variable\"]=='AR6 climate diagnostics|Effective Radiative Forcing|N2O|FaIRv1.6.2|50.0th Percentile'),\n",
    "        '1995':].values\n",
    "    )\n",
    "#     new_df = pd.concat(\n",
    "#         [\n",
    "#             new_df,\n",
    "#             ar6_df.loc[\n",
    "#                 (ar6_df[\"Model\"]==model)&(ar6_df[\"Scenario\"]==scenario)&(ar6_df[\"Variable\"].isin(wanted_vars))\n",
    "#             ]\n",
    "#         ]"
   ]
  },
  {
   "cell_type": "code",
   "execution_count": null,
   "id": "51b53053",
   "metadata": {},
   "outputs": [],
   "source": [
    "new_df = pd.concat((othererf_df, new_df))"
   ]
  },
  {
   "cell_type": "code",
   "execution_count": null,
   "id": "4a48eb7c",
   "metadata": {},
   "outputs": [],
   "source": [
    "new_df.sort_values(by=['Model', 'Scenario']).to_csv('../data/ar6_wg3_scenarios.csv', index=False)"
   ]
  },
  {
   "cell_type": "code",
   "execution_count": null,
   "id": "3f6a96f9",
   "metadata": {},
   "outputs": [],
   "source": []
  }
 ],
 "metadata": {
  "kernelspec": {
   "display_name": "Python 3 (ipykernel)",
   "language": "python",
   "name": "python3"
  },
  "language_info": {
   "codemirror_mode": {
    "name": "ipython",
    "version": 3
   },
   "file_extension": ".py",
   "mimetype": "text/x-python",
   "name": "python",
   "nbconvert_exporter": "python",
   "pygments_lexer": "ipython3",
   "version": "3.11.4"
  }
 },
 "nbformat": 4,
 "nbformat_minor": 5
}
