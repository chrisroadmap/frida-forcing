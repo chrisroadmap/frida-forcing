{
 "cells": [
  {
   "cell_type": "markdown",
   "id": "72cbcd5e-9f8c-49a2-b465-4476bd00025d",
   "metadata": {},
   "source": [
    "# Sea level input\n",
    "\n",
    "Produce some offline {T1, T2, T3} scenarios for Lennart to run in the sea level rise module."
   ]
  },
  {
   "cell_type": "code",
   "execution_count": null,
   "id": "c737400c-2538-4d3c-8ce7-7b726c3024eb",
   "metadata": {},
   "outputs": [],
   "source": [
    "import os\n",
    "\n",
    "import matplotlib.pyplot as pl\n",
    "import numpy as np\n",
    "import pandas as pd\n",
    "import pooch\n",
    "import xarray as xr\n",
    "\n",
    "from fair import FAIR\n",
    "from fair.interface import fill, initialise\n",
    "from fair.io import read_properties"
   ]
  },
  {
   "cell_type": "code",
   "execution_count": null,
   "id": "498bc286-1c29-4ee6-96b7-6c98c06524f3",
   "metadata": {},
   "outputs": [],
   "source": [
    "scenarios = ['ssp119', 'ssp245', 'ssp585']"
   ]
  },
  {
   "cell_type": "code",
   "execution_count": null,
   "id": "f37ac737-722f-4bc7-abd1-495ad68d4c63",
   "metadata": {},
   "outputs": [],
   "source": [
    "df_solar = pd.read_csv(\n",
    "    \"../data/solar_erf_timebounds.csv\", index_col=\"year\"\n",
    ")\n",
    "df_volcanic = pd.read_csv(\n",
    "    \"../data/volcanic_ERF_monthly_-950001-201912.csv\"\n",
    ")"
   ]
  },
  {
   "cell_type": "code",
   "execution_count": null,
   "id": "e94929ac-68b5-4df8-808f-b6451de1122f",
   "metadata": {},
   "outputs": [],
   "source": [
    "solar_forcing = np.zeros(751)\n",
    "volcanic_forcing = np.zeros(751)\n",
    "for i, year in enumerate(np.arange(1750, 2021)):\n",
    "    volcanic_forcing[i] = np.mean(\n",
    "        df_volcanic.loc[\n",
    "            ((year - 1) <= df_volcanic[\"year\"]) & (df_volcanic[\"year\"] < year)\n",
    "        ].erf\n",
    "    )\n",
    "volcanic_forcing[271:281] = np.linspace(1, 0, 10) * volcanic_forcing[270]\n",
    "solar_forcing[:551] = df_solar[\"erf\"].loc[1750:2300].values\n",
    "\n",
    "trend_shape = np.ones(751)\n",
    "trend_shape[:271] = np.linspace(0, 1, 271)"
   ]
  },
  {
   "cell_type": "code",
   "execution_count": null,
   "id": "90778225-f60d-4835-b624-c9ac0d2976ba",
   "metadata": {},
   "outputs": [],
   "source": [
    "df_configs = pd.read_csv('../data/calibrated_constrained_parameters_v1.1.0.csv', index_col=0)\n",
    "valid_all = df_configs.index"
   ]
  },
  {
   "cell_type": "code",
   "execution_count": null,
   "id": "2fb06ef1-8f0c-4b99-aeb3-2c3bdbb53b71",
   "metadata": {},
   "outputs": [],
   "source": [
    "f = FAIR(ch4_method=\"Thornhill2021\")\n",
    "f.define_time(1750, 2500, 1)\n",
    "f.define_scenarios(scenarios)\n",
    "f.define_configs(valid_all)\n",
    "species, properties = read_properties(filename='../data/species_configs_properties_updated.csv')\n",
    "f.define_species(species, properties)\n",
    "f.allocate()"
   ]
  },
  {
   "cell_type": "code",
   "execution_count": null,
   "id": "0029c231-f9c4-49ff-9120-b24ee526c516",
   "metadata": {},
   "outputs": [],
   "source": [
    "rcmip_emissions_file = pooch.retrieve(\n",
    "    url=\"doi:10.5281/zenodo.4589756/rcmip-emissions-annual-means-v5-1-0.csv\",\n",
    "    known_hash=\"md5:4044106f55ca65b094670e7577eaf9b3\",\n",
    ")"
   ]
  },
  {
   "cell_type": "code",
   "execution_count": null,
   "id": "71ac629b-47e4-4913-9236-4cfff65f0331",
   "metadata": {},
   "outputs": [],
   "source": [
    "df_emis = pd.read_csv(rcmip_emissions_file)"
   ]
  },
  {
   "cell_type": "code",
   "execution_count": null,
   "id": "ab2fd38a-2988-4a3f-9418-71323550d769",
   "metadata": {},
   "outputs": [],
   "source": [
    "gfed_sectors = [\n",
    "    \"Emissions|NOx|MAGICC AFOLU|Agricultural Waste Burning\",\n",
    "    \"Emissions|NOx|MAGICC AFOLU|Forest Burning\",\n",
    "    \"Emissions|NOx|MAGICC AFOLU|Grassland Burning\",\n",
    "    \"Emissions|NOx|MAGICC AFOLU|Peat Burning\",\n",
    "]\n",
    "\n",
    "for scenario in scenarios:\n",
    "    f.emissions.loc[dict(specie=\"NOx\", scenario=scenario)] = (\n",
    "        df_emis.loc[\n",
    "            (df_emis[\"Scenario\"] == scenario)\n",
    "            & (df_emis[\"Region\"] == \"World\")\n",
    "            & (df_emis[\"Variable\"].isin(gfed_sectors)),\n",
    "            \"1750\":\"2500\",\n",
    "        ]\n",
    "        .interpolate(axis=1)\n",
    "        .values.squeeze()\n",
    "        .sum(axis=0)\n",
    "        * 46.006\n",
    "        / 30.006\n",
    "        + df_emis.loc[\n",
    "            (df_emis[\"Scenario\"] == scenario)\n",
    "            & (df_emis[\"Region\"] == \"World\")\n",
    "            & (df_emis[\"Variable\"] == \"Emissions|NOx|MAGICC AFOLU|Agriculture\"),\n",
    "            \"1750\":\"2500\",\n",
    "        ]\n",
    "        .interpolate(axis=1)\n",
    "        .values.squeeze()\n",
    "        + df_emis.loc[\n",
    "            (df_emis[\"Scenario\"] == scenario)\n",
    "            & (df_emis[\"Region\"] == \"World\")\n",
    "            & (df_emis[\"Variable\"] == \"Emissions|NOx|MAGICC Fossil and Industrial\"),\n",
    "            \"1750\":\"2500\",\n",
    "        ]\n",
    "        .interpolate(axis=1)\n",
    "        .values.squeeze()\n",
    "    )[:750][:, None]"
   ]
  },
  {
   "cell_type": "code",
   "execution_count": null,
   "id": "13b34c44-3f1e-4661-90fa-93778022d6a7",
   "metadata": {},
   "outputs": [],
   "source": [
    "# from FaIR name to RCMIP name. NOx is excluded from this list as we don't want to pick up the uncorrected value.\n",
    "# aviation NOx is a CEDS product so it's fine\n",
    "species_mapping = {'BC': 'Emissions|BC',\n",
    " 'CCl4': 'Emissions|Montreal Gases|CCl4',\n",
    " 'CFC-11': 'Emissions|Montreal Gases|CFC|CFC11',\n",
    " 'CFC-113': 'Emissions|Montreal Gases|CFC|CFC113',\n",
    " 'CFC-114': 'Emissions|Montreal Gases|CFC|CFC114',\n",
    " 'CFC-115': 'Emissions|Montreal Gases|CFC|CFC115',\n",
    " 'CFC-12': 'Emissions|Montreal Gases|CFC|CFC12',\n",
    " 'CH2Cl2': 'Emissions|Montreal Gases|CH2Cl2',\n",
    " 'CH3Br': 'Emissions|Montreal Gases|CH3Br',\n",
    " 'CH3CCl3': 'Emissions|Montreal Gases|CH3CCl3',\n",
    " 'CH3Cl': 'Emissions|Montreal Gases|CH3Cl',\n",
    " 'CH4': 'Emissions|CH4',\n",
    " 'CHCl3': 'Emissions|Montreal Gases|CHCl3',\n",
    " 'CO': 'Emissions|CO',\n",
    " 'CO2 AFOLU': 'Emissions|CO2|MAGICC AFOLU',\n",
    " 'CO2 FFI': 'Emissions|CO2|MAGICC Fossil and Industrial',\n",
    " 'HCFC-141b': 'Emissions|Montreal Gases|HCFC141b',\n",
    " 'HCFC-142b': 'Emissions|Montreal Gases|HCFC142b',\n",
    " 'HCFC-22': 'Emissions|Montreal Gases|HCFC22',\n",
    " 'HFC-125': 'Emissions|F-Gases|HFC|HFC125',\n",
    " 'HFC-134a': 'Emissions|F-Gases|HFC|HFC134a',\n",
    " 'HFC-143a': 'Emissions|F-Gases|HFC|HFC143a',\n",
    " 'HFC-152a': 'Emissions|F-Gases|HFC|HFC152a',\n",
    " 'HFC-227ea': 'Emissions|F-Gases|HFC|HFC227ea',\n",
    " 'HFC-23': 'Emissions|F-Gases|HFC|HFC23',\n",
    " 'HFC-236fa': 'Emissions|F-Gases|HFC|HFC236fa',\n",
    " 'HFC-245fa': 'Emissions|F-Gases|HFC|HFC245fa',\n",
    " 'HFC-32': 'Emissions|F-Gases|HFC|HFC32',\n",
    " 'HFC-365mfc': 'Emissions|F-Gases|HFC|HFC365mfc',\n",
    " 'HFC-4310mee': 'Emissions|F-Gases|HFC|HFC4310mee',\n",
    " 'Halon-1202': 'Emissions|Montreal Gases|Halon1202',\n",
    " 'Halon-1211': 'Emissions|Montreal Gases|Halon1211',\n",
    " 'Halon-1301': 'Emissions|Montreal Gases|Halon1301',\n",
    " 'Halon-2402': 'Emissions|Montreal Gases|Halon2402',\n",
    " 'N2O': 'Emissions|N2O',\n",
    " 'NF3': 'Emissions|F-Gases|NF3',\n",
    " 'NH3': 'Emissions|NH3',\n",
    " 'NOx aviation': 'Emissions|NOx|MAGICC Fossil and Industrial|Aircraft',\n",
    " 'OC': 'Emissions|OC',\n",
    " 'C2F6': 'Emissions|F-Gases|PFC|C2F6',\n",
    " 'C3F8': 'Emissions|F-Gases|PFC|C3F8',\n",
    " 'C4F10': 'Emissions|F-Gases|PFC|C4F10',\n",
    " 'C5F12': 'Emissions|F-Gases|PFC|C5F12',\n",
    " 'C6F14': 'Emissions|F-Gases|PFC|C6F14',\n",
    " 'C7F16': 'Emissions|F-Gases|PFC|C7F16',\n",
    " 'C8F18': 'Emissions|F-Gases|PFC|C8F18',\n",
    " 'CF4': 'Emissions|F-Gases|PFC|CF4',\n",
    " 'c-C4F8': 'Emissions|F-Gases|PFC|cC4F8',\n",
    " 'SF6': 'Emissions|F-Gases|SF6',\n",
    " 'SO2F2': 'Emissions|F-Gases|SO2F2',\n",
    " 'Sulfur': 'Emissions|Sulfur',\n",
    " 'VOC': 'Emissions|VOC'}"
   ]
  },
  {
   "cell_type": "code",
   "execution_count": null,
   "id": "c3949204-75b6-454f-b63f-13c810553bbf",
   "metadata": {},
   "outputs": [],
   "source": [
    "# change units for some emitted species\n",
    "unit_convert = {specie: 1 for specie in species}\n",
    "unit_convert['CO2 AFOLU'] = 0.001\n",
    "unit_convert['CO2 FFI'] = 0.001\n",
    "unit_convert['N2O'] = 0.001"
   ]
  },
  {
   "cell_type": "code",
   "execution_count": null,
   "id": "ac0bee68-5252-4e4a-8a09-d4020d9708cf",
   "metadata": {},
   "outputs": [],
   "source": [
    "for scenario in scenarios:\n",
    "    for specie in species_mapping:\n",
    "        f.emissions.loc[dict(specie=specie, scenario=scenario)] = (\n",
    "            df_emis.loc[\n",
    "                (df_emis[\"Scenario\"] == scenario)\n",
    "                & (df_emis[\"Region\"] == \"World\")\n",
    "                & (df_emis[\"Variable\"] == species_mapping[specie]),\n",
    "                \"1750\":\"2500\",\n",
    "            ]\n",
    "            .interpolate(axis=1)\n",
    "            .values.squeeze()\n",
    "            * unit_convert[specie]\n",
    "        )[:750][:, None]"
   ]
  },
  {
   "cell_type": "code",
   "execution_count": null,
   "id": "0be36c62-22c7-4869-a24e-2410d2cbd2e7",
   "metadata": {},
   "outputs": [],
   "source": [
    "fill(\n",
    "    f.forcing,\n",
    "    volcanic_forcing[:, None, None] * df_configs[\"scale Volcanic\"].values.squeeze(),\n",
    "    specie=\"Volcanic\",\n",
    ")\n",
    "fill(\n",
    "    f.forcing,\n",
    "    solar_forcing[:, None, None] * df_configs[\"solar_amplitude\"].values.squeeze()\n",
    "    + trend_shape[:, None, None] * df_configs[\"solar_trend\"].values.squeeze(),\n",
    "    specie=\"Solar\",\n",
    ")"
   ]
  },
  {
   "cell_type": "code",
   "execution_count": null,
   "id": "b099bb88-231d-4847-bc4a-1ae1f486f549",
   "metadata": {},
   "outputs": [],
   "source": [
    "fill(f.climate_configs[\"ocean_heat_capacity\"], df_configs.loc[:, \"c1\":\"c3\"].values)\n",
    "fill(\n",
    "    f.climate_configs[\"ocean_heat_transfer\"],\n",
    "    df_configs.loc[:, \"kappa1\":\"kappa3\"].values,\n",
    ")\n",
    "fill(f.climate_configs[\"deep_ocean_efficacy\"], df_configs[\"epsilon\"].values.squeeze())\n",
    "fill(f.climate_configs[\"gamma_autocorrelation\"], df_configs[\"gamma\"].values.squeeze())\n",
    "fill(f.climate_configs[\"sigma_eta\"], df_configs[\"sigma_eta\"].values.squeeze())\n",
    "fill(f.climate_configs[\"sigma_xi\"], df_configs[\"sigma_xi\"].values.squeeze())\n",
    "fill(f.climate_configs[\"seed\"], df_configs[\"seed\"])\n",
    "fill(f.climate_configs[\"stochastic_run\"], True)\n",
    "fill(f.climate_configs[\"use_seed\"], True)\n",
    "fill(f.climate_configs[\"forcing_4co2\"], df_configs[\"F_4xCO2\"])"
   ]
  },
  {
   "cell_type": "code",
   "execution_count": null,
   "id": "ebd24759-a32b-46b1-a989-fae9c8aa8161",
   "metadata": {},
   "outputs": [],
   "source": [
    "f.fill_species_configs('../data/species_configs_properties_updated.csv')\n",
    "\n",
    "# carbon cycle\n",
    "fill(f.species_configs[\"iirf_0\"], df_configs[\"r0\"].values.squeeze(), specie=\"CO2\")\n",
    "fill(f.species_configs[\"iirf_airborne\"], df_configs[\"rA\"].values.squeeze(), specie=\"CO2\")\n",
    "fill(f.species_configs[\"iirf_uptake\"], df_configs[\"rU\"].values.squeeze(), specie=\"CO2\")\n",
    "fill(f.species_configs[\"iirf_temperature\"], df_configs[\"rT\"].values.squeeze(), specie=\"CO2\")\n",
    "\n",
    "# aerosol indirect\n",
    "fill(f.species_configs[\"aci_scale\"], df_configs[\"beta\"].values.squeeze())\n",
    "fill(f.species_configs[\"aci_shape\"], df_configs[\"shape Sulfur\"].values.squeeze(), specie=\"Sulfur\")\n",
    "fill(f.species_configs[\"aci_shape\"], df_configs[\"shape BC\"].values.squeeze(), specie=\"BC\")\n",
    "fill(f.species_configs[\"aci_shape\"], df_configs[\"shape OC\"].values.squeeze(), specie=\"OC\")\n",
    "\n",
    "# aerosol direct\n",
    "for specie in [\"BC\", \"CH4\", \"N2O\", \"NH3\", \"NOx\", \"OC\", \"Sulfur\", \"VOC\", \"Equivalent effective stratospheric chlorine\"]:\n",
    "    fill(f.species_configs[\"erfari_radiative_efficiency\"], df_configs[f\"ari {specie}\"], specie=specie)\n",
    "\n",
    "# forcing scaling\n",
    "for specie in [\"CO2\", \"CH4\", \"N2O\", \"Stratospheric water vapour\", \"Contrails\", \"Light absorbing particles on snow and ice\", \"Land use\"]:\n",
    "    fill(f.species_configs[\"forcing_scale\"], df_configs[f\"scale {specie}\"].values.squeeze(), specie=specie)\n",
    "\n",
    "for specie in [\n",
    "    \"CFC-11\",\n",
    "    \"CFC-12\",\n",
    "    \"CFC-113\",\n",
    "    \"CFC-114\",\n",
    "    \"CFC-115\",\n",
    "    \"HCFC-22\",\n",
    "    \"HCFC-141b\",\n",
    "    \"HCFC-142b\",\n",
    "    \"CCl4\",\n",
    "    \"CHCl3\",\n",
    "    \"CH2Cl2\",\n",
    "    \"CH3Cl\",\n",
    "    \"CH3CCl3\",\n",
    "    \"CH3Br\",\n",
    "    \"Halon-1211\",\n",
    "    \"Halon-1301\",\n",
    "    \"Halon-2402\",\n",
    "    \"CF4\",\n",
    "    \"C2F6\",\n",
    "    \"C3F8\",\n",
    "    \"c-C4F8\",\n",
    "    \"C4F10\",\n",
    "    \"C5F12\",\n",
    "    \"C6F14\",\n",
    "    \"C7F16\",\n",
    "    \"C8F18\",\n",
    "    \"NF3\",\n",
    "    \"SF6\",\n",
    "    \"SO2F2\",\n",
    "    \"HFC-125\",\n",
    "    \"HFC-134a\",\n",
    "    \"HFC-143a\",\n",
    "    \"HFC-152a\",\n",
    "    \"HFC-227ea\",\n",
    "    \"HFC-23\",\n",
    "    \"HFC-236fa\",\n",
    "    \"HFC-245fa\",\n",
    "    \"HFC-32\",\n",
    "    \"HFC-365mfc\",\n",
    "    \"HFC-4310mee\",\n",
    "]:\n",
    "    fill(f.species_configs[\"forcing_scale\"], df_configs[\"scale minorGHG\"].values.squeeze(), specie=specie)\n",
    "\n",
    "# ozone\n",
    "for specie in [\"CH4\", \"N2O\", \"Equivalent effective stratospheric chlorine\", \"CO\", \"VOC\", \"NOx\"]:\n",
    "    fill(f.species_configs[\"ozone_radiative_efficiency\"], df_configs[f\"o3 {specie}\"], specie=specie)\n",
    "\n",
    "# initial condition of CO2 concentration (but not baseline for forcing calculations)\n",
    "fill(f.species_configs[\"baseline_concentration\"], df_configs[\"co2_concentration_1750\"].values.squeeze(), specie=\"CO2\")\n",
    "\n",
    "# initial conditions\n",
    "initialise(f.concentration, f.species_configs[\"baseline_concentration\"])\n",
    "initialise(f.forcing, 0)\n",
    "initialise(f.temperature, 0)\n",
    "initialise(f.cumulative_emissions, 0)\n",
    "initialise(f.airborne_emissions, 0)"
   ]
  },
  {
   "cell_type": "code",
   "execution_count": null,
   "id": "01715f65-5045-4c07-882f-9261ea7dccd7",
   "metadata": {},
   "outputs": [],
   "source": [
    "f.run()"
   ]
  },
  {
   "cell_type": "code",
   "execution_count": null,
   "id": "cbbc2e61-455b-43f5-90f3-b7e17e14316e",
   "metadata": {},
   "outputs": [],
   "source": [
    "for scenario in scenarios:\n",
    "    pl.fill_between(\n",
    "        f.timebounds,\n",
    "        f.temperature.loc[dict(layer=0, scenario=scenario)].quantile(0.05, dim='config'),\n",
    "        f.temperature.loc[dict(layer=0, scenario=scenario)].quantile(0.95, dim='config'),\n",
    "        alpha=0.3,\n",
    "        lw=0\n",
    "    )\n",
    "pl.plot(f.timebounds, f.temperature.loc[dict(layer=0)].median(dim='config'), label=scenarios)\n",
    "pl.ylabel('K relative to pre-industrial')\n",
    "pl.title('Temperature anomaly')\n",
    "pl.legend(loc='upper left')\n",
    "pl.xlim(1750, 2500)"
   ]
  },
  {
   "cell_type": "code",
   "execution_count": null,
   "id": "f1095d07-0705-4f5d-90fe-0484a76311f3",
   "metadata": {},
   "outputs": [],
   "source": [
    "for scenario in scenarios:\n",
    "    pl.fill_between(\n",
    "        f.timebounds,\n",
    "        f.temperature.loc[dict(layer=0, scenario=scenario)][:,:20].quantile(0.05, dim='config'),\n",
    "        f.temperature.loc[dict(layer=0, scenario=scenario)][:,:20].quantile(0.95, dim='config'),\n",
    "        alpha=0.3,\n",
    "        lw=0\n",
    "    )\n",
    "pl.plot(f.timebounds, f.temperature.loc[dict(layer=0)][:,:20].median(dim='config'), label=scenarios)\n",
    "pl.ylabel('K relative to pre-industrial')\n",
    "pl.title('Temperature anomaly')\n",
    "pl.legend(loc='upper left')\n",
    "pl.xlim(1750, 2500)"
   ]
  },
  {
   "cell_type": "code",
   "execution_count": null,
   "id": "b9b73f56-4278-4878-907c-e487129b189c",
   "metadata": {},
   "outputs": [],
   "source": [
    "os.makedirs('../output/', exist_ok=True)"
   ]
  },
  {
   "cell_type": "code",
   "execution_count": null,
   "id": "ac41a5e7-183c-4167-a47d-54966c7b97b6",
   "metadata": {},
   "outputs": [],
   "source": [
    "f.ocean_heat_content_change"
   ]
  },
  {
   "cell_type": "code",
   "execution_count": null,
   "id": "482a07a3-8dc8-4699-a578-b9636b1a0dc9",
   "metadata": {},
   "outputs": [],
   "source": [
    "f.temperature"
   ]
  },
  {
   "cell_type": "code",
   "execution_count": null,
   "id": "e95f9fae-3915-4ca6-8c8c-842b13f8437e",
   "metadata": {},
   "outputs": [],
   "source": [
    "ds = xr.Dataset(\n",
    "    data_vars={\n",
    "        'temperature': (['timebounds', 'scenario', 'config', 'layer'], f.temperature.data),\n",
    "        'ocean_heat_content': (['timebounds', 'scenario', 'config'], f.ocean_heat_content_change.data),\n",
    "    },\n",
    "    coords={\n",
    "        'timebounds': f.timebounds,\n",
    "        'scenario': f.scenarios,\n",
    "        'config': f.configs,\n",
    "        'layer': f.layers\n",
    "    }\n",
    ")"
   ]
  },
  {
   "cell_type": "code",
   "execution_count": null,
   "id": "834a7174-fe3d-4d2d-9267-b046d25fe709",
   "metadata": {},
   "outputs": [],
   "source": [
    "ds"
   ]
  },
  {
   "cell_type": "code",
   "execution_count": null,
   "id": "60379d48-db80-4578-9726-ec16a940237b",
   "metadata": {},
   "outputs": [],
   "source": [
    "ds.to_netcdf('../output/fair-2.1.0_calibration-1.1.0.nc')"
   ]
  },
  {
   "cell_type": "code",
   "execution_count": null,
   "id": "ad8e6269-48f0-4f8b-8c45-f8227676f764",
   "metadata": {},
   "outputs": [],
   "source": []
  }
 ],
 "metadata": {
  "kernelspec": {
   "display_name": "Python 3 (ipykernel)",
   "language": "python",
   "name": "python3"
  },
  "language_info": {
   "codemirror_mode": {
    "name": "ipython",
    "version": 3
   },
   "file_extension": ".py",
   "mimetype": "text/x-python",
   "name": "python",
   "nbconvert_exporter": "python",
   "pygments_lexer": "ipython3",
   "version": "3.11.4"
  }
 },
 "nbformat": 4,
 "nbformat_minor": 5
}
