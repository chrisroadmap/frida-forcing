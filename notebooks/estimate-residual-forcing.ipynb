{
 "cells": [
  {
   "cell_type": "markdown",
   "id": "3b5b58a7",
   "metadata": {},
   "source": [
    "# Estimate non-CO2, non-CH4, non-N2O forcing\n",
    "\n",
    "- Done as function of CO2 FFI emissions, can be done total CO2 if needed\n",
    "- Include solar and volcanic for history"
   ]
  },
  {
   "cell_type": "code",
   "execution_count": null,
   "id": "7cd3a3fd",
   "metadata": {},
   "outputs": [],
   "source": [
    "import matplotlib.pyplot as pl\n",
    "import numpy as np\n",
    "import pandas as pd\n",
    "from statsmodels.formula.api import ols\n",
    "import scipy.stats as st\n",
    "from scipy.signal import savgol_filter\n",
    "from matplotlib.lines import Line2D\n",
    "from tqdm.auto import tqdm"
   ]
  },
  {
   "cell_type": "code",
   "execution_count": null,
   "id": "00c2b823",
   "metadata": {},
   "outputs": [],
   "source": [
    "ar6_df = pd.read_csv('../data/ar6_wg3_scenarios.csv')"
   ]
  },
  {
   "cell_type": "code",
   "execution_count": null,
   "id": "90fb9136",
   "metadata": {},
   "outputs": [],
   "source": [
    "ar6_df.Variable.unique()"
   ]
  },
  {
   "cell_type": "code",
   "execution_count": null,
   "id": "0565c8c3",
   "metadata": {},
   "outputs": [],
   "source": [
    "ar6_df"
   ]
  },
  {
   "cell_type": "code",
   "execution_count": null,
   "id": "d0752bc3",
   "metadata": {},
   "outputs": [],
   "source": [
    "ar6_df.loc[ar6_df['Variable']=='AR6 climate diagnostics|Harmonized|Emissions|CO2|Energy and Industrial Processes']"
   ]
  },
  {
   "cell_type": "code",
   "execution_count": null,
   "id": "b7b90155",
   "metadata": {},
   "outputs": [],
   "source": [
    "y = np.empty((0))\n",
    "#x = np.empty((0, 3))\n",
    "x = np.empty((0, 2))\n",
    "\n",
    "fig, ax = pl.subplots()\n",
    "for year in tqdm(range(2015, 2101)):\n",
    "    ffi = 0.001*ar6_df.loc[ar6_df['Variable']=='AR6 climate diagnostics|Harmonized|Emissions|CO2|Energy and Industrial Processes', str(year)]\n",
    "    erf = ar6_df.loc[ar6_df['Variable']=='AR6 climate diagnostics|Effective Radiative Forcing|Basket|Anthropogenic non-CO2-CH4-N2O|FaIRv1.6.2|50.0th Percentile', str(year)]\n",
    "    time = np.ones(1202) * year\n",
    "    time2 = np.ones(1202) * year * year\n",
    "    y = np.append(y, erf)\n",
    "    #x = np.append(x, np.column_stack([ffi, time, time2]), axis=0)\n",
    "    x = np.append(x, np.column_stack([ffi, time]), axis=0)\n",
    "    if year%10==0:\n",
    "        sl, ic, _, _, _ = st.linregress(ffi, erf)\n",
    "        shade = (2120-year)/100\n",
    "        ax.scatter(ffi, erf, alpha=0.3)\n",
    "        print(year, sl, ic)\n",
    "        ax.plot(np.linspace(-20, 130), np.linspace(-20, 130) * sl + ic, label=year)\n",
    "ax.legend()"
   ]
  },
  {
   "cell_type": "code",
   "execution_count": null,
   "id": "edfce508",
   "metadata": {},
   "outputs": [],
   "source": [
    "#sm_df = pd.DataFrame(x, columns=['ffi', 'year', 'year2'])\n",
    "sm_df = pd.DataFrame(x, columns=['ffi', 'year'])\n",
    "sm_df['erf'] = y# - 3.21\n",
    "#results = ols(formula = \"erf ~ ffi + year + year2\", data=sm_df).fit()\n",
    "results = ols(formula = \"erf ~ ffi + year\", data=sm_df).fit()"
   ]
  },
  {
   "cell_type": "code",
   "execution_count": null,
   "id": "56846ffe",
   "metadata": {},
   "outputs": [],
   "source": [
    "results.summary()"
   ]
  },
  {
   "cell_type": "code",
   "execution_count": null,
   "id": "d113d88c",
   "metadata": {},
   "outputs": [],
   "source": [
    "results.params"
   ]
  },
  {
   "cell_type": "code",
   "execution_count": null,
   "id": "8aee9a0e",
   "metadata": {},
   "outputs": [],
   "source": [
    "pl.plot(\n",
    "    np.arange(2015, 2101),\n",
    "    (0.001 * ar6_df.loc[\n",
    "        ar6_df['Variable']=='AR6 climate diagnostics|Harmonized|Emissions|CO2|Energy and Industrial Processes',\n",
    "        '2015':'2100'\n",
    "    ].values * results.params['ffi'] + \n",
    "    np.arange(2015, 2101)[:, None].T * results.params['year'] + \n",
    "#    np.arange(2015, 2101)[:, None].T**2 * results.params['year2'] +\n",
    "    results.params['Intercept']).T\n",
    ");"
   ]
  },
  {
   "cell_type": "code",
   "execution_count": null,
   "id": "e4cf7562",
   "metadata": {},
   "outputs": [],
   "source": [
    "pl.plot(\n",
    "    np.arange(2015, 2101),\n",
    "    ar6_df.loc[\n",
    "        ar6_df['Variable']=='AR6 climate diagnostics|Effective Radiative Forcing|Basket|Anthropogenic non-CO2-CH4-N2O|FaIRv1.6.2|50.0th Percentile',\n",
    "        '2015':'2100'\n",
    "    ].values.T\n",
    ");"
   ]
  },
  {
   "cell_type": "code",
   "execution_count": null,
   "id": "bc31acae",
   "metadata": {},
   "outputs": [],
   "source": [
    "ar6_erf = pd.read_csv('../data/AR6_ERF_1750-2019.csv')"
   ]
  },
  {
   "cell_type": "code",
   "execution_count": null,
   "id": "0b473705",
   "metadata": {},
   "outputs": [],
   "source": [
    "ar6_erf['total'] - ar6_erf['co2'] - ar6_erf['ch4'] - ar6_erf['n2o']"
   ]
  },
  {
   "cell_type": "code",
   "execution_count": null,
   "id": "f328ce4a",
   "metadata": {},
   "outputs": [],
   "source": [
    "transition = np.zeros(86)\n",
    "transition[:10] = np.linspace(0.14, 0, 10)"
   ]
  },
  {
   "cell_type": "code",
   "execution_count": null,
   "id": "7342b3db",
   "metadata": {},
   "outputs": [],
   "source": [
    "pl.plot(\n",
    "    np.arange(1750, 2020),\n",
    "    (ar6_erf['total'] - ar6_erf['co2'] - ar6_erf['ch4'] - ar6_erf['n2o']).values\n",
    ")\n",
    "pl.plot(\n",
    "    np.arange(2015, 2101),\n",
    "    np.median(\n",
    "        ar6_df.loc[\n",
    "            ar6_df['Variable']=='AR6 climate diagnostics|Effective Radiative Forcing|Basket|Anthropogenic non-CO2-CH4-N2O|FaIRv1.6.2|50.0th Percentile',\n",
    "            '2015':'2100'\n",
    "        ].values.T,\n",
    "        axis=1\n",
    "    ) + transition\n",
    ")\n",
    "pl.xlim(1980, 2040)\n",
    "pl.ylim(-2.5, 0.5)"
   ]
  },
  {
   "cell_type": "code",
   "execution_count": null,
   "id": "bf2d847b",
   "metadata": {},
   "outputs": [],
   "source": [
    "output = np.zeros((351))\n",
    "\n",
    "output[:265] = (ar6_erf['total'] - ar6_erf['co2'] - ar6_erf['ch4'] - ar6_erf['n2o']).values[:265]\n",
    "\n",
    "output[265:] = np.median(\n",
    "    ar6_df.loc[\n",
    "        ar6_df['Variable']=='AR6 climate diagnostics|Effective Radiative Forcing|Basket|Anthropogenic non-CO2-CH4-N2O|FaIRv1.6.2|50.0th Percentile',\n",
    "        '2015':'2100'\n",
    "    ].values.T,\n",
    "    axis=1\n",
    ") + transition"
   ]
  },
  {
   "cell_type": "code",
   "execution_count": null,
   "id": "9d857862",
   "metadata": {},
   "outputs": [],
   "source": [
    "pd.DataFrame(output, index=np.arange(1750.5, 2101), columns=[\"residual_ERF\"]).to_csv('../output/residual_ERF.csv')"
   ]
  },
  {
   "cell_type": "code",
   "execution_count": null,
   "id": "1dcf4fb0",
   "metadata": {},
   "outputs": [],
   "source": []
  }
 ],
 "metadata": {
  "kernelspec": {
   "display_name": "Python 3 (ipykernel)",
   "language": "python",
   "name": "python3"
  },
  "language_info": {
   "codemirror_mode": {
    "name": "ipython",
    "version": 3
   },
   "file_extension": ".py",
   "mimetype": "text/x-python",
   "name": "python",
   "nbconvert_exporter": "python",
   "pygments_lexer": "ipython3",
   "version": "3.11.0"
  }
 },
 "nbformat": 4,
 "nbformat_minor": 5
}
