{
 "cells": [
  {
   "cell_type": "markdown",
   "id": "2f9797c1",
   "metadata": {},
   "source": [
    "# Minimal example of reduced FaIR\n",
    "\n",
    "The version of FaIR used in FRIDA will model the following forcing categories explicitly:\n",
    "- CO2\n",
    "- CH4\n",
    "- N2O\n",
    "- aerosol-radiation interactions\n",
    "- aerosol-cloud interactions\n",
    "- stratospheric water vapour from methane oxidation\n",
    "- land use\n",
    "\n",
    "These forcing categories are based on correlations to emitted species that are modelled:\n",
    "- halogenated gases\n",
    "- O3\n",
    "- black carbon on snow\n",
    "\n",
    "These forcing categories are supplied as external time series:\n",
    "- solar\n",
    "- volcanic\n",
    "\n",
    "Excluded:\n",
    "- contrails (not in AR6 WG3 scenarios)\n",
    "\n",
    "We'll use SSP2-4.5 emissions.\n",
    "\n",
    "## Methane lifetime\n",
    "\n",
    "Use Leach method as we don't have all the chemical precursors. We could make a probablisitic ensemble of this."
   ]
  },
  {
   "cell_type": "code",
   "execution_count": null,
   "id": "c25c277e",
   "metadata": {},
   "outputs": [],
   "source": [
    "import matplotlib.pyplot as pl\n",
    "import numpy as np\n",
    "import pandas as pd\n",
    "from scipy.interpolate import interp1d\n",
    "import xarray as xr\n",
    "\n",
    "from fair import FAIR\n",
    "from fair.interface import fill, initialise\n",
    "from fair.io import read_properties"
   ]
  },
  {
   "cell_type": "code",
   "execution_count": null,
   "id": "e9768f9b",
   "metadata": {},
   "outputs": [],
   "source": [
    "scenarios = ['ssp245']"
   ]
  },
  {
   "cell_type": "code",
   "execution_count": null,
   "id": "dce6500c",
   "metadata": {},
   "outputs": [],
   "source": [
    "df_solar = pd.read_csv('../data/solar_erf_timebounds.csv', index_col='year')"
   ]
  },
  {
   "cell_type": "code",
   "execution_count": null,
   "id": "b154acb0",
   "metadata": {},
   "outputs": [],
   "source": [
    "df_volcanic = pd.read_csv('../data/volcanic_ERF_monthly_-950001-201912.csv')"
   ]
  },
  {
   "cell_type": "code",
   "execution_count": null,
   "id": "c94745ec",
   "metadata": {},
   "outputs": [],
   "source": [
    "solar_forcing = np.zeros(352)\n",
    "volcanic_forcing = np.zeros(352)\n",
    "for i, year in enumerate(np.arange(1750, 2021)):\n",
    "    volcanic_forcing[i] = np.mean(\n",
    "        df_volcanic.loc[\n",
    "            ((year - 1) <= df_volcanic[\"year\"]) & (df_volcanic[\"year\"] < year)\n",
    "        ].erf\n",
    "    )\n",
    "volcanic_forcing[271:281] = np.linspace(1, 0, 10) * volcanic_forcing[270]\n",
    "solar_forcing = df_solar[\"erf\"].loc[1750:2101].values"
   ]
  },
  {
   "cell_type": "code",
   "execution_count": null,
   "id": "c389fc80",
   "metadata": {},
   "outputs": [],
   "source": [
    "df_configs = pd.read_csv(\n",
    "    \"../data/calibrated_constrained_parameters_v1.1.0.csv\",\n",
    "    index_col=0,\n",
    ")"
   ]
  },
  {
   "cell_type": "code",
   "execution_count": null,
   "id": "88e0acaf",
   "metadata": {},
   "outputs": [],
   "source": [
    "valid_all = df_configs.index"
   ]
  },
  {
   "cell_type": "code",
   "execution_count": null,
   "id": "994a6ef2",
   "metadata": {},
   "outputs": [],
   "source": [
    "f=FAIR()  # use Leach method for methane lifetime as we don't have all the SCLFs"
   ]
  },
  {
   "cell_type": "code",
   "execution_count": null,
   "id": "121b8f9f",
   "metadata": {},
   "outputs": [],
   "source": [
    "f.define_time(1750, 2101, 1)\n",
    "f.define_scenarios(scenarios)\n",
    "f.define_configs(valid_all)"
   ]
  },
  {
   "cell_type": "code",
   "execution_count": null,
   "id": "b9a6e21f",
   "metadata": {},
   "outputs": [],
   "source": [
    "species, properties = read_properties('../data/species_configs_properties_reduced.csv')\n",
    "f.define_species(species, properties)\n",
    "f.allocate()"
   ]
  },
  {
   "cell_type": "code",
   "execution_count": null,
   "id": "68df3a1f",
   "metadata": {},
   "outputs": [],
   "source": [
    "f.species"
   ]
  },
  {
   "cell_type": "markdown",
   "id": "f0ca8884",
   "metadata": {},
   "source": [
    "## Fill in emissions\n",
    "\n",
    "As we're using a custom set of input species, `fill_from_rcmip()` won't work here. So we'll use a pre-supplied dataset of netCDF emissions that are the same as RCMIP, but with the NOx emissions corrected (not that we use them here, at all)."
   ]
  },
  {
   "cell_type": "code",
   "execution_count": null,
   "id": "580b0be5",
   "metadata": {},
   "outputs": [],
   "source": [
    "da_emissions = xr.load_dataarray(\"../data/ssp_emissions_1750-2500.nc\")"
   ]
  },
  {
   "cell_type": "code",
   "execution_count": null,
   "id": "13a9cb8f",
   "metadata": {},
   "outputs": [],
   "source": [
    "da = da_emissions.loc[\n",
    "    dict(\n",
    "        config=\"unspecified\", \n",
    "        scenario=\"ssp245\", \n",
    "        timepoints=np.arange(1750.5, 2101),\n",
    "    )\n",
    "]"
   ]
  },
  {
   "cell_type": "code",
   "execution_count": null,
   "id": "60b76932",
   "metadata": {},
   "outputs": [],
   "source": [
    "da"
   ]
  },
  {
   "cell_type": "markdown",
   "id": "3ba70b6b",
   "metadata": {},
   "source": [
    "Fill in the emissions array matching species common to both"
   ]
  },
  {
   "cell_type": "code",
   "execution_count": null,
   "id": "caa4ee05",
   "metadata": {},
   "outputs": [],
   "source": [
    "common_species = list(set(f.species) & set(list(da.specie.to_numpy())))\n",
    "common_species"
   ]
  },
  {
   "cell_type": "code",
   "execution_count": null,
   "id": "847c0dbd",
   "metadata": {},
   "outputs": [],
   "source": [
    "for specie in common_species:\n",
    "    f.emissions.loc[\n",
    "        dict(specie=specie)\n",
    "    ] = da.loc[\n",
    "        dict(specie=specie)\n",
    "    ].expand_dims(dim=[\"scenario\", \"config\"], axis=(1, 2)).drop(\"config\")"
   ]
  },
  {
   "cell_type": "code",
   "execution_count": null,
   "id": "4474c593",
   "metadata": {},
   "outputs": [],
   "source": [
    "f.emissions"
   ]
  },
  {
   "cell_type": "markdown",
   "id": "0fdd226e",
   "metadata": {},
   "source": [
    "## Fill in forcing\n",
    "\n",
    "Fill solar and volcanic forcing from external time series, and then fill in O3, BC snow and F-gases from regressions.\n",
    "\n",
    "\n",
    "Forcing is on timebounds, and the regression relationships are on time points, so we'll linearly interpolate in this quick example, though Chris do whatever you did previously to derive the coefficients"
   ]
  },
  {
   "cell_type": "code",
   "execution_count": null,
   "id": "44ee5df1",
   "metadata": {},
   "outputs": [],
   "source": [
    "trend_shape = np.ones(352)\n",
    "trend_shape[:271] = np.linspace(0, 1, 271)\n",
    "fill(\n",
    "    f.forcing,\n",
    "    volcanic_forcing[:, None, None] * df_configs[\"scale Volcanic\"].values.squeeze(),\n",
    "    specie=\"Volcanic\",\n",
    ")\n",
    "fill(\n",
    "    f.forcing,\n",
    "    solar_forcing[:, None, None] * df_configs[\"solar_amplitude\"].values.squeeze()\n",
    "    + trend_shape[:, None, None] * df_configs[\"solar_trend\"].values.squeeze(),\n",
    "    specie=\"Solar\",\n",
    ")"
   ]
  },
  {
   "cell_type": "code",
   "execution_count": null,
   "id": "2acb1646",
   "metadata": {},
   "outputs": [],
   "source": [
    "o3_sulfur = 0.00194893\n",
    "o3_ch4 = 0.00072183\n",
    "o3_int = 0.048424\n",
    "\n",
    "bcsnow_co2afolu = 0.00117162\n",
    "bcsnow_sulfur = 0.00080857\n",
    "bcsnow_int = -0.0024945\n",
    "\n",
    "fgas_ch4 = 0.00059102\n",
    "fgas_n2o = -0.00195974\n",
    "fgas_int = 0.16398"
   ]
  },
  {
   "cell_type": "code",
   "execution_count": null,
   "id": "f321ee52",
   "metadata": {},
   "outputs": [],
   "source": [
    "o3_timepoints = (\n",
    "    o3_int + \n",
    "    o3_sulfur * f.emissions.loc[dict(specie='Sulfur', scenario='ssp245', config=valid_all[0])] +\n",
    "    o3_ch4 * f.emissions.loc[dict(specie='CH4', scenario='ssp245', config=valid_all[0])]\n",
    ")"
   ]
  },
  {
   "cell_type": "code",
   "execution_count": null,
   "id": "c1db91a1",
   "metadata": {},
   "outputs": [],
   "source": [
    "interpolator = interp1d(np.arange(1750.5, 2101), o3_timepoints)\n",
    "o3_timebounds = np.ones(352) * np.nan\n",
    "o3_timebounds[1:-1] = interpolator(np.arange(1751, 2101))\n",
    "o3_timebounds[0] = o3_timepoints[0]\n",
    "o3_timebounds[-1] = o3_timepoints[-1]"
   ]
  },
  {
   "cell_type": "code",
   "execution_count": null,
   "id": "b03e7c2c",
   "metadata": {},
   "outputs": [],
   "source": [
    "# Ozone simulated forcing\n",
    "pl.plot(f.timepoints, o3_timepoints);\n",
    "pl.plot(f.timebounds, o3_timebounds);"
   ]
  },
  {
   "cell_type": "code",
   "execution_count": null,
   "id": "85a1fee0",
   "metadata": {},
   "outputs": [],
   "source": [
    "bcsnow_timepoints = (\n",
    "    bcsnow_int + \n",
    "    bcsnow_sulfur * f.emissions.loc[dict(specie='Sulfur', scenario='ssp245', config=valid_all[0])] +\n",
    "    bcsnow_co2afolu * f.emissions.loc[dict(specie='CO2 AFOLU', scenario='ssp245', config=valid_all[0])]\n",
    ")"
   ]
  },
  {
   "cell_type": "code",
   "execution_count": null,
   "id": "25e0b8ec",
   "metadata": {},
   "outputs": [],
   "source": [
    "interpolator = interp1d(np.arange(1750.5, 2101), bcsnow_timepoints)\n",
    "bcsnow_timebounds = np.ones(352) * np.nan\n",
    "bcsnow_timebounds[1:-1] = interpolator(np.arange(1751, 2101))\n",
    "bcsnow_timebounds[0] = bcsnow_timepoints[0]\n",
    "bcsnow_timebounds[-1] = bcsnow_timepoints[-1]"
   ]
  },
  {
   "cell_type": "code",
   "execution_count": null,
   "id": "5700c1e7",
   "metadata": {},
   "outputs": [],
   "source": [
    "# BC snow simulated forcing\n",
    "pl.plot(f.timepoints, bcsnow_timepoints);\n",
    "pl.plot(f.timebounds, bcsnow_timebounds);"
   ]
  },
  {
   "cell_type": "code",
   "execution_count": null,
   "id": "68c7bfa2",
   "metadata": {},
   "outputs": [],
   "source": [
    "fgas_timepoints = (\n",
    "    fgas_int + \n",
    "    fgas_n2o * f.emissions.loc[dict(specie='N2O', scenario='ssp245', config=valid_all[0])] +\n",
    "    fgas_ch4 * f.emissions.loc[dict(specie='CH4', scenario='ssp245', config=valid_all[0])]\n",
    ")"
   ]
  },
  {
   "cell_type": "code",
   "execution_count": null,
   "id": "28c54165",
   "metadata": {},
   "outputs": [],
   "source": [
    "interpolator = interp1d(np.arange(1750.5, 2101), fgas_timepoints)\n",
    "fgas_timebounds = np.ones(352) * np.nan\n",
    "fgas_timebounds[1:-1] = interpolator(np.arange(1751, 2101))\n",
    "fgas_timebounds[0] = fgas_timepoints[0]\n",
    "fgas_timebounds[-1] = fgas_timepoints[-1]"
   ]
  },
  {
   "cell_type": "code",
   "execution_count": null,
   "id": "fd9bebb5",
   "metadata": {},
   "outputs": [],
   "source": [
    "# Ozone simulated forcing\n",
    "pl.plot(f.timepoints, fgas_timepoints);\n",
    "pl.plot(f.timebounds, fgas_timebounds);"
   ]
  },
  {
   "cell_type": "markdown",
   "id": "9ad86146",
   "metadata": {},
   "source": [
    "Now fill in these forcing time series"
   ]
  },
  {
   "cell_type": "code",
   "execution_count": null,
   "id": "6d243013",
   "metadata": {},
   "outputs": [],
   "source": [
    "fill(f.forcing, fgas_timebounds[:, None], specie=\"F-gases\", scenario=\"ssp245\")\n",
    "fill(f.forcing, o3_timebounds[:, None], specie=\"Ozone\", scenario=\"ssp245\")\n",
    "fill(f.forcing, bcsnow_timebounds[:, None], specie=\"Light absorbing particles on snow and ice\", scenario=\"ssp245\")"
   ]
  },
  {
   "cell_type": "markdown",
   "id": "e8a0bdb5",
   "metadata": {},
   "source": [
    "## Climate response configs\n",
    "\n",
    "These come straight from probabilistic calibration"
   ]
  },
  {
   "cell_type": "code",
   "execution_count": null,
   "id": "c7fad8ca",
   "metadata": {},
   "outputs": [],
   "source": [
    "fill(f.climate_configs[\"ocean_heat_capacity\"], df_configs.loc[:, \"c1\":\"c3\"].values)\n",
    "fill(\n",
    "    f.climate_configs[\"ocean_heat_transfer\"],\n",
    "    df_configs.loc[:, \"kappa1\":\"kappa3\"].values,\n",
    ")\n",
    "fill(f.climate_configs[\"deep_ocean_efficacy\"], df_configs[\"epsilon\"].values.squeeze())\n",
    "fill(f.climate_configs[\"gamma_autocorrelation\"], df_configs[\"gamma\"].values.squeeze())\n",
    "fill(f.climate_configs[\"sigma_eta\"], df_configs[\"sigma_eta\"].values.squeeze())\n",
    "fill(f.climate_configs[\"sigma_xi\"], df_configs[\"sigma_xi\"].values.squeeze())\n",
    "fill(f.climate_configs[\"seed\"], df_configs[\"seed\"])\n",
    "fill(f.climate_configs[\"stochastic_run\"], True)\n",
    "fill(f.climate_configs[\"use_seed\"], True)\n",
    "fill(f.climate_configs[\"forcing_4co2\"], df_configs[\"F_4xCO2\"])"
   ]
  },
  {
   "cell_type": "markdown",
   "id": "0b514b48",
   "metadata": {},
   "source": [
    "## Species configs\n",
    "\n",
    "First we load up the defaults for all species that come from our datafile.\n",
    "\n",
    "Then we override specific values for some species from the probabilistic calibration, but many are not relevant to the reduced version, and override the baseline values loaded into `species_configs_properties_reduced.csv`.\n",
    "\n",
    "We will do a specific calibration with the reduced FaIR to get better values for this version."
   ]
  },
  {
   "cell_type": "code",
   "execution_count": null,
   "id": "310db106",
   "metadata": {},
   "outputs": [],
   "source": [
    "f.fill_species_configs('../data/species_configs_properties_reduced.csv')\n",
    "\n",
    "# carbon cycle\n",
    "fill(f.species_configs[\"iirf_0\"], df_configs[\"r0\"].values.squeeze(), specie=\"CO2\")\n",
    "fill(f.species_configs[\"iirf_airborne\"], df_configs[\"rA\"].values.squeeze(), specie=\"CO2\")\n",
    "fill(f.species_configs[\"iirf_uptake\"], df_configs[\"rU\"].values.squeeze(), specie=\"CO2\")\n",
    "fill(f.species_configs[\"iirf_temperature\"], df_configs[\"rT\"].values.squeeze(), specie=\"CO2\")\n",
    "\n",
    "# aerosol indirect sensitivity to SO2 emissions\n",
    "fill(f.species_configs[\"aci_scale\"], df_configs[\"beta\"].values.squeeze())\n",
    "fill(f.species_configs[\"aci_shape\"], df_configs[\"shape Sulfur\"].values.squeeze(), specie=\"Sulfur\")\n",
    "\n",
    "# double check methane concentrations and forcing doesn't suck in the calibration code\n",
    "\n",
    "# emissions adjustments for N2O and CH4 (we don't want to make these defaults as people\n",
    "# might wanna run pulse expts with these gases)\n",
    "# these are 1750 emissions levels and are subtracted from the emissions time series in the concentration anomaly\n",
    "# calculation.\n",
    "fill(f.species_configs[\"baseline_emissions\"], 19.019783117809567, specie=\"CH4\")\n",
    "fill(f.species_configs[\"baseline_emissions\"], 0.08602230754, specie=\"N2O\")\n",
    "\n",
    "# aerosol direct sensitivity to SO2 emissions\n",
    "fill(f.species_configs[\"erfari_radiative_efficiency\"], df_configs[f\"ari Sulfur\"], specie=\"Sulfur\")\n",
    "\n",
    "# forcing scaling\n",
    "for specie in [\n",
    "    \"CO2\",\n",
    "    \"CH4\",\n",
    "    \"N2O\",\n",
    "    \"Stratospheric water vapour\",\n",
    "    \"Land use\",\n",
    "]:\n",
    "    fill(\n",
    "        f.species_configs[\"forcing_scale\"],\n",
    "        df_configs[f\"scale {specie}\"].values.squeeze(),\n",
    "        specie=specie,\n",
    "    )\n",
    "\n",
    "# For some reason the full time series scaling doesn't feed through, so need to scale it here for F-gases and BCSnow.\n",
    "fill(\n",
    "    f.forcing,\n",
    "    fgas_timebounds[:, None, None] * df_configs[\"scale minorGHG\"].values.squeeze(),\n",
    "    specie=\"F-gases\",\n",
    ")\n",
    "    \n",
    "fill(\n",
    "    f.forcing,\n",
    "    bcsnow_timebounds[:, None, None] * df_configs[\"scale Light absorbing particles on snow and ice\"].values.squeeze(),\n",
    "    specie=\"Light absorbing particles on snow and ice\",\n",
    ")\n",
    "# We have to come up with a way to get uncertainty in the regression coefficients for ozone that gives us \n",
    "# a roughly +/- 50% uncertainty in the present-day forcing - this will come in the calibration and sampling\n",
    "\n",
    "# initial condition of CO2 concentration (but not baseline for forcing calculations)\n",
    "fill(\n",
    "    f.species_configs[\"baseline_concentration\"],\n",
    "    df_configs[\"co2_concentration_1750\"].values.squeeze(),\n",
    "    specie=\"CO2\",\n",
    ")"
   ]
  },
  {
   "cell_type": "code",
   "execution_count": null,
   "id": "fc4aea06",
   "metadata": {},
   "outputs": [],
   "source": [
    "# initial conditions\n",
    "initialise(f.concentration, f.species_configs[\"baseline_concentration\"])\n",
    "initialise(f.forcing, 0)\n",
    "initialise(f.temperature, 0)\n",
    "initialise(f.cumulative_emissions, 0)\n",
    "initialise(f.airborne_emissions, 0)"
   ]
  },
  {
   "cell_type": "code",
   "execution_count": null,
   "id": "76262962",
   "metadata": {},
   "outputs": [],
   "source": [
    "f.run()"
   ]
  },
  {
   "cell_type": "code",
   "execution_count": null,
   "id": "e1a3e078",
   "metadata": {},
   "outputs": [],
   "source": [
    "pl.plot(\n",
    "    f.timebounds, \n",
    "    (\n",
    "        f.temperature.loc[dict(layer=0, scenario='ssp245')] - \n",
    "        f.temperature.loc[dict(layer=0, scenario='ssp245', timebounds=np.arange(1850, 1901))].mean(axis=0)\n",
    "    )\n",
    ");"
   ]
  },
  {
   "cell_type": "code",
   "execution_count": null,
   "id": "cc995bfd",
   "metadata": {},
   "outputs": [],
   "source": [
    "np.percentile(\n",
    "    f.temperature.loc[dict(layer=0, scenario='ssp245', timebounds=np.arange(1995, 2014))].mean(axis=0) - \n",
    "    f.temperature.loc[dict(layer=0, scenario='ssp245', timebounds=np.arange(1850, 1901))].mean(axis=0),\n",
    "    (5, 50, 95)\n",
    ")"
   ]
  },
  {
   "cell_type": "code",
   "execution_count": null,
   "id": "eb3597ce",
   "metadata": {},
   "outputs": [],
   "source": [
    "# present day forcing looks nice\n",
    "np.percentile(\n",
    "    f.forcing_sum.loc[dict(scenario='ssp245', timebounds=2019)],\n",
    "    (5, 50, 95)\n",
    ")"
   ]
  },
  {
   "cell_type": "code",
   "execution_count": null,
   "id": "7e72821f",
   "metadata": {},
   "outputs": [],
   "source": [
    "pl.plot(f.timebounds, f.forcing_sum.loc[dict(scenario='ssp245')]);\n",
    "pl.ylim(-2, 6.5)"
   ]
  },
  {
   "cell_type": "code",
   "execution_count": null,
   "id": "3dc70810",
   "metadata": {},
   "outputs": [],
   "source": [
    "pl.plot(f.timebounds, f.forcing.loc[dict(specie='CO2', scenario='ssp245')]);"
   ]
  },
  {
   "cell_type": "code",
   "execution_count": null,
   "id": "a2d05614",
   "metadata": {},
   "outputs": [],
   "source": [
    "pl.plot(f.timebounds, f.forcing.loc[dict(specie='CH4', scenario='ssp245')]);"
   ]
  },
  {
   "cell_type": "code",
   "execution_count": null,
   "id": "55334507",
   "metadata": {},
   "outputs": [],
   "source": [
    "pl.plot(f.timebounds, f.forcing.loc[dict(specie='N2O', scenario='ssp245')]);"
   ]
  },
  {
   "cell_type": "code",
   "execution_count": null,
   "id": "9c891464",
   "metadata": {},
   "outputs": [],
   "source": [
    "pl.plot(f.timebounds, f.forcing.loc[dict(specie='Aerosol-radiation interactions', scenario='ssp245')]);"
   ]
  },
  {
   "cell_type": "code",
   "execution_count": null,
   "id": "85ef2654",
   "metadata": {},
   "outputs": [],
   "source": [
    "pl.plot(f.timebounds, f.forcing.loc[dict(specie='Aerosol-cloud interactions', scenario='ssp245')]);"
   ]
  },
  {
   "cell_type": "code",
   "execution_count": null,
   "id": "ae3be391",
   "metadata": {},
   "outputs": [],
   "source": [
    "pl.plot(f.timebounds, f.forcing.loc[dict(specie='Land use', scenario='ssp245')]);"
   ]
  },
  {
   "cell_type": "code",
   "execution_count": null,
   "id": "6233d276",
   "metadata": {},
   "outputs": [],
   "source": [
    "pl.plot(f.timebounds, f.forcing.loc[dict(specie='Ozone', scenario='ssp245')]);\n",
    "# temperature feedback is switched on here - do we want it?"
   ]
  },
  {
   "cell_type": "code",
   "execution_count": null,
   "id": "2e0d9795",
   "metadata": {},
   "outputs": [],
   "source": [
    "pl.plot(f.timebounds, f.forcing.loc[dict(specie='F-gases', scenario='ssp245')]);"
   ]
  },
  {
   "cell_type": "code",
   "execution_count": null,
   "id": "2191363d",
   "metadata": {},
   "outputs": [],
   "source": [
    "pl.plot(f.timebounds, f.forcing.loc[dict(specie='Light absorbing particles on snow and ice', scenario='ssp245')]);"
   ]
  },
  {
   "cell_type": "code",
   "execution_count": null,
   "id": "19df98d2",
   "metadata": {},
   "outputs": [],
   "source": [
    "pl.plot(f.timebounds, f.forcing.loc[dict(specie='Stratospheric water vapour', scenario='ssp245')]);"
   ]
  },
  {
   "cell_type": "code",
   "execution_count": null,
   "id": "0aa0bc89",
   "metadata": {},
   "outputs": [],
   "source": [
    "pl.plot(f.timebounds, f.forcing.loc[dict(specie='Solar', scenario='ssp245')]);"
   ]
  },
  {
   "cell_type": "code",
   "execution_count": null,
   "id": "835feaf3",
   "metadata": {},
   "outputs": [],
   "source": [
    "pl.plot(f.timebounds, f.forcing.loc[dict(specie='Volcanic', scenario='ssp245')]);"
   ]
  },
  {
   "cell_type": "code",
   "execution_count": null,
   "id": "f582e90f",
   "metadata": {},
   "outputs": [],
   "source": []
  }
 ],
 "metadata": {
  "kernelspec": {
   "display_name": "Python 3 (ipykernel)",
   "language": "python",
   "name": "python3"
  },
  "language_info": {
   "codemirror_mode": {
    "name": "ipython",
    "version": 3
   },
   "file_extension": ".py",
   "mimetype": "text/x-python",
   "name": "python",
   "nbconvert_exporter": "python",
   "pygments_lexer": "ipython3",
   "version": "3.11.4"
  }
 },
 "nbformat": 4,
 "nbformat_minor": 5
}
