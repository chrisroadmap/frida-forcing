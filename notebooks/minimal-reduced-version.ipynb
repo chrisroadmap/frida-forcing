{
 "cells": [
  {
   "cell_type": "markdown",
   "id": "2f9797c1",
   "metadata": {},
   "source": [
    "# Minimal example of reduced FaIR\n",
    "\n",
    "The version of FaIR used in FRIDA will model the following forcing categories explicitly:\n",
    "- CO2\n",
    "- CH4\n",
    "- N2O\n",
    "- aerosol-radiation interactions\n",
    "- aerosol-cloud interactions\n",
    "- stratospheric water vapour from methane oxidation\n",
    "- land use\n",
    "\n",
    "These forcing categories are based on correlations to emitted species that are modelled:\n",
    "- halogenated gases\n",
    "- O3\n",
    "- black carbon on snow\n",
    "\n",
    "These forcing categories are supplied as external time series:\n",
    "- solar\n",
    "- volcanic\n",
    "\n",
    "Excluded:\n",
    "- contrails (not in AR6 WG3 scenarios)\n",
    "\n",
    "We'll use SSP2-4.5 emissions."
   ]
  },
  {
   "cell_type": "code",
   "execution_count": null,
   "id": "c25c277e",
   "metadata": {},
   "outputs": [],
   "source": [
    "import matplotlib.pyplot as pl\n",
    "import numpy as np\n",
    "import pandas as pd\n",
    "\n",
    "from fair import FAIR\n",
    "from fair.interface import fill, initialise\n",
    "from fair.io import read_properties"
   ]
  },
  {
   "cell_type": "code",
   "execution_count": null,
   "id": "e9768f9b",
   "metadata": {},
   "outputs": [],
   "source": [
    "scenarios = ['ssp245']"
   ]
  },
  {
   "cell_type": "code",
   "execution_count": null,
   "id": "dce6500c",
   "metadata": {},
   "outputs": [],
   "source": [
    "df_solar = pd.read_csv('../data/solar_erf_timebounds.csv', index_col='year')"
   ]
  },
  {
   "cell_type": "code",
   "execution_count": null,
   "id": "b154acb0",
   "metadata": {},
   "outputs": [],
   "source": [
    "df_volcanic = pd.read_csv('../data/volcanic_ERF_monthly_-950001-201912.csv')"
   ]
  },
  {
   "cell_type": "code",
   "execution_count": null,
   "id": "c94745ec",
   "metadata": {},
   "outputs": [],
   "source": [
    "solar_forcing = np.zeros(352)\n",
    "volcanic_forcing = np.zeros(352)\n",
    "for i, year in enumerate(np.arange(1750, 2021)):\n",
    "    volcanic_forcing[i] = np.mean(\n",
    "        df_volcanic.loc[\n",
    "            ((year - 1) <= df_volcanic[\"year\"]) & (df_volcanic[\"year\"] < year)\n",
    "        ].erf\n",
    "    )\n",
    "volcanic_forcing[271:281] = np.linspace(1, 0, 10) * volcanic_forcing[270]\n",
    "solar_forcing = df_solar[\"erf\"].loc[1750:2101].values"
   ]
  },
  {
   "cell_type": "code",
   "execution_count": null,
   "id": "88e0acaf",
   "metadata": {},
   "outputs": [],
   "source": [
    "df_configs = pd.read_csv(\n",
    "    f\"../../../../../output/fair-{fair_v}/v{cal_v}/{constraint_set}/posteriors/\"\n",
    "    \"calibrated_constrained_parameters.csv\",\n",
    "    index_col=0,\n",
    ")\n",
    "valid_all = df_configs.index"
   ]
  }
 ],
 "metadata": {
  "kernelspec": {
   "display_name": "Python 3 (ipykernel)",
   "language": "python",
   "name": "python3"
  },
  "language_info": {
   "codemirror_mode": {
    "name": "ipython",
    "version": 3
   },
   "file_extension": ".py",
   "mimetype": "text/x-python",
   "name": "python",
   "nbconvert_exporter": "python",
   "pygments_lexer": "ipython3",
   "version": "3.11.4"
  }
 },
 "nbformat": 4,
 "nbformat_minor": 5
}
