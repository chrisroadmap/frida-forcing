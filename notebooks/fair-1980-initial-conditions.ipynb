{
 "cells": [
  {
   "cell_type": "markdown",
   "id": "70d76105",
   "metadata": {},
   "source": [
    "# Calibrated 1980 initial conditions\n",
    "\n",
    "For a fair comparison we need the right ocean layer temperatures to initialise FaIR with in 1980. So we re-run the constrained calibrated ensemble *with AR6 best estimate forcing* and save out results in 1980."
   ]
  },
  {
   "cell_type": "code",
   "execution_count": null,
   "id": "28e7c960",
   "metadata": {},
   "outputs": [],
   "source": [
    "import matplotlib.pyplot as pl\n",
    "import numpy as np\n",
    "import pandas as pd\n",
    "import pooch\n",
    "from fair import FAIR\n",
    "from fair.interface import fill, initialise\n",
    "from fair.io import read_properties"
   ]
  },
  {
   "cell_type": "code",
   "execution_count": null,
   "id": "886f93db",
   "metadata": {},
   "outputs": [],
   "source": [
    "scenarios = [\"AR6_hist\"]  # doesn't matter which"
   ]
  },
  {
   "cell_type": "code",
   "execution_count": null,
   "id": "145ae0b3",
   "metadata": {},
   "outputs": [],
   "source": [
    "df_configs = pd.read_csv('../data/calibrated_constrained_parameters_v1.1.0.csv', index_col=0)\n",
    "df_configs.index.name = 'config'"
   ]
  },
  {
   "cell_type": "code",
   "execution_count": null,
   "id": "0515c915",
   "metadata": {},
   "outputs": [],
   "source": [
    "f = FAIR()\n",
    "f.define_time(1750, 1980, 1)\n",
    "f.define_scenarios(scenarios)\n",
    "f.define_configs(df_configs.index)\n",
    "# Create an aggregate forcing time series specie.\n",
    "f.define_species(['Fext'],\n",
    "    {\n",
    "        'Fext': {\n",
    "            'type': 'unspecified',\n",
    "            'input_mode': 'forcing',\n",
    "            'greenhouse_gas': False,\n",
    "            'aerosol_chemistry_from_emissions': False,\n",
    "            'aerosol_chemistry_from_concentration': False\n",
    "        }\n",
    "    }\n",
    ")\n",
    "f.allocate()"
   ]
  },
  {
   "cell_type": "code",
   "execution_count": null,
   "id": "6c01873e",
   "metadata": {},
   "outputs": [],
   "source": [
    "# climate response\n",
    "fill(f.climate_configs[\"ocean_heat_capacity\"], df_configs.loc[:, \"c1\":\"c3\"].values)\n",
    "fill(f.climate_configs[\"ocean_heat_transfer\"], df_configs.loc[:, \"kappa1\":\"kappa3\"].values)\n",
    "fill(f.climate_configs[\"deep_ocean_efficacy\"], df_configs[\"epsilon\"].values.squeeze())\n",
    "fill(f.climate_configs[\"gamma_autocorrelation\"], df_configs[\"gamma\"].values.squeeze())\n",
    "fill(f.climate_configs[\"sigma_eta\"], df_configs[\"sigma_eta\"].values.squeeze())\n",
    "fill(f.climate_configs[\"sigma_xi\"], df_configs[\"sigma_xi\"].values.squeeze())\n",
    "fill(f.climate_configs[\"seed\"], df_configs[\"seed\"])\n",
    "fill(f.climate_configs[\"stochastic_run\"], True)\n",
    "fill(f.climate_configs[\"use_seed\"], True)\n",
    "fill(f.climate_configs[\"forcing_4co2\"], df_configs[\"F_4xCO2\"])"
   ]
  },
  {
   "cell_type": "code",
   "execution_count": null,
   "id": "81ea3974",
   "metadata": {},
   "outputs": [],
   "source": [
    "df_ar6 = pd.read_csv('../data/AR6_ERF_1750-2019.csv', index_col=0)\n",
    "df_ar6.loc[1750:1980, 'total']"
   ]
  },
  {
   "cell_type": "code",
   "execution_count": null,
   "id": "18fbb57d",
   "metadata": {},
   "outputs": [],
   "source": [
    "f.forcing[:, 0, :, 0] = df_ar6.loc[1750:1980, 'total'].values[:, None]"
   ]
  },
  {
   "cell_type": "code",
   "execution_count": null,
   "id": "e00fb123",
   "metadata": {},
   "outputs": [],
   "source": [
    "# initial conditions: 1750\n",
    "initialise(f.forcing, 0)\n",
    "initialise(f.temperature, 0)"
   ]
  },
  {
   "cell_type": "code",
   "execution_count": null,
   "id": "577b0b26",
   "metadata": {},
   "outputs": [],
   "source": [
    "f.run()"
   ]
  },
  {
   "cell_type": "code",
   "execution_count": null,
   "id": "e0978915",
   "metadata": {},
   "outputs": [],
   "source": [
    "# rebase to 1850-1900 means\n",
    "weight_51yr = np.ones(52)\n",
    "weight_51yr[0] = 0.5\n",
    "weight_51yr[-1] = 0.5"
   ]
  },
  {
   "cell_type": "code",
   "execution_count": null,
   "id": "27129d80",
   "metadata": {},
   "outputs": [],
   "source": [
    "temp_rebased = f.temperature - np.average(f.temperature[100:152, ...], weights=weight_51yr, axis=0)"
   ]
  },
  {
   "cell_type": "code",
   "execution_count": null,
   "id": "43db7865",
   "metadata": {},
   "outputs": [],
   "source": [
    "temp_rebased[-1, 0, :, :]"
   ]
  },
  {
   "cell_type": "code",
   "execution_count": null,
   "id": "4392b06b",
   "metadata": {},
   "outputs": [],
   "source": [
    "temp_rebased[-1, 0, :, :].to_pandas()"
   ]
  },
  {
   "cell_type": "code",
   "execution_count": null,
   "id": "9c963f98",
   "metadata": {},
   "outputs": [],
   "source": [
    "temp_rebased[-1, 0, :, :].to_pandas().to_csv('../output/fair_1980_state.csv')"
   ]
  }
 ],
 "metadata": {
  "kernelspec": {
   "display_name": "Python 3 (ipykernel)",
   "language": "python",
   "name": "python3"
  },
  "language_info": {
   "codemirror_mode": {
    "name": "ipython",
    "version": 3
   },
   "file_extension": ".py",
   "mimetype": "text/x-python",
   "name": "python",
   "nbconvert_exporter": "python",
   "pygments_lexer": "ipython3",
   "version": "3.11.4"
  }
 },
 "nbformat": 4,
 "nbformat_minor": 5
}
