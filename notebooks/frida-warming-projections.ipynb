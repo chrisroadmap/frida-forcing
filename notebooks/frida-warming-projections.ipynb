{
 "cells": [
  {
   "cell_type": "markdown",
   "id": "8de1b6e2",
   "metadata": {},
   "source": [
    "# Warming projections from FRIDA\n",
    "\n",
    "Run the forcing from FRIDA through the calibrated FaIR model and compare FRIDA's warming against this."
   ]
  },
  {
   "cell_type": "code",
   "execution_count": null,
   "id": "c2116dc6",
   "metadata": {},
   "outputs": [],
   "source": [
    "import os\n",
    "import fair\n",
    "from fair.interface import fill, initialise\n",
    "import matplotlib.pyplot as pl\n",
    "import pandas as pd\n",
    "import numpy as np"
   ]
  },
  {
   "cell_type": "code",
   "execution_count": null,
   "id": "9060cadc",
   "metadata": {},
   "outputs": [],
   "source": [
    "pl.rcParams['figure.figsize'] = (8.7/2.54, 8.7/2.54)\n",
    "pl.rcParams['font.size'] = 7\n",
    "pl.rcParams['font.family'] = 'Arial'\n",
    "pl.rcParams['ytick.direction'] = 'in'\n",
    "pl.rcParams['ytick.minor.visible'] = True\n",
    "pl.rcParams['ytick.major.right'] = True\n",
    "pl.rcParams['ytick.right'] = True\n",
    "pl.rcParams['xtick.direction'] = 'in'\n",
    "pl.rcParams['xtick.minor.visible'] = True\n",
    "pl.rcParams['xtick.major.top'] = True\n",
    "pl.rcParams['xtick.top'] = True\n",
    "pl.rcParams['axes.spines.top'] = True\n",
    "pl.rcParams['axes.spines.bottom'] = True\n",
    "pl.rcParams['figure.dpi'] = 150"
   ]
  },
  {
   "cell_type": "code",
   "execution_count": null,
   "id": "0f7f99d7",
   "metadata": {},
   "outputs": [],
   "source": [
    "fair.__version__"
   ]
  },
  {
   "cell_type": "code",
   "execution_count": null,
   "id": "4a4f1366",
   "metadata": {},
   "outputs": [],
   "source": [
    "fair.__file__"
   ]
  },
  {
   "cell_type": "code",
   "execution_count": null,
   "id": "6ac244a2",
   "metadata": {},
   "outputs": [],
   "source": [
    "df_frida = pd.read_csv('../data/frida0.1-20230313-warming-forcing.csv', index_col=0)"
   ]
  },
  {
   "cell_type": "code",
   "execution_count": null,
   "id": "6ea7ac05",
   "metadata": {},
   "outputs": [],
   "source": [
    "df_frida.index.name = 'year'"
   ]
  },
  {
   "cell_type": "code",
   "execution_count": null,
   "id": "565a23d1",
   "metadata": {},
   "outputs": [],
   "source": [
    "df_frida"
   ]
  },
  {
   "cell_type": "code",
   "execution_count": null,
   "id": "eefe3281",
   "metadata": {},
   "outputs": [],
   "source": [
    "pl.plot(df_frida['Observed warming'])"
   ]
  },
  {
   "cell_type": "code",
   "execution_count": null,
   "id": "7143f672",
   "metadata": {},
   "outputs": [],
   "source": [
    "pl.plot(df_frida['GHG forcing'])  # incorrectly named"
   ]
  },
  {
   "cell_type": "code",
   "execution_count": null,
   "id": "385f44f6",
   "metadata": {},
   "outputs": [],
   "source": [
    "df_configs = pd.read_csv('../data/calibrated_constrained_parameters_v1.1.0.csv', index_col=0)\n",
    "df_configs.index.name = 'config'"
   ]
  },
  {
   "cell_type": "code",
   "execution_count": null,
   "id": "e62414dc",
   "metadata": {},
   "outputs": [],
   "source": [
    "df_configs"
   ]
  },
  {
   "cell_type": "code",
   "execution_count": null,
   "id": "9bd16a0d",
   "metadata": {},
   "outputs": [],
   "source": [
    "f = fair.FAIR()"
   ]
  },
  {
   "cell_type": "code",
   "execution_count": null,
   "id": "bb2ddda0",
   "metadata": {},
   "outputs": [],
   "source": [
    "f.define_time(1980, 2100, 1/8)"
   ]
  },
  {
   "cell_type": "code",
   "execution_count": null,
   "id": "782e740b",
   "metadata": {},
   "outputs": [],
   "source": [
    "f.timebounds"
   ]
  },
  {
   "cell_type": "code",
   "execution_count": null,
   "id": "daa6d9d5",
   "metadata": {},
   "outputs": [],
   "source": [
    "f.define_scenarios(['frida'])"
   ]
  },
  {
   "cell_type": "code",
   "execution_count": null,
   "id": "1b4bebf6",
   "metadata": {},
   "outputs": [],
   "source": [
    "df_configs.index"
   ]
  },
  {
   "cell_type": "code",
   "execution_count": null,
   "id": "3487b6d7",
   "metadata": {},
   "outputs": [],
   "source": [
    "f.define_configs(df_configs.index)"
   ]
  },
  {
   "cell_type": "code",
   "execution_count": null,
   "id": "dbc94bb1",
   "metadata": {},
   "outputs": [],
   "source": [
    "# Create an aggregate forcing time series specie.\n",
    "f.define_species(['Fext'],\n",
    "    {\n",
    "        'Fext': {\n",
    "            'type': 'unspecified',\n",
    "            'input_mode': 'forcing',\n",
    "            'greenhouse_gas': False,\n",
    "            'aerosol_chemistry_from_emissions': False,\n",
    "            'aerosol_chemistry_from_concentration': False\n",
    "        }\n",
    "    }\n",
    ")"
   ]
  },
  {
   "cell_type": "code",
   "execution_count": null,
   "id": "55d49415",
   "metadata": {},
   "outputs": [],
   "source": [
    "f.allocate()"
   ]
  },
  {
   "cell_type": "code",
   "execution_count": null,
   "id": "525dbe41",
   "metadata": {},
   "outputs": [],
   "source": [
    "f.forcing.coords"
   ]
  },
  {
   "cell_type": "code",
   "execution_count": null,
   "id": "13595581",
   "metadata": {},
   "outputs": [],
   "source": [
    "f.forcing.shape"
   ]
  },
  {
   "cell_type": "code",
   "execution_count": null,
   "id": "a92a4242",
   "metadata": {},
   "outputs": [],
   "source": [
    "f.forcing[:, 0, :, 0] = df_frida['GHG forcing'].values[:, None]"
   ]
  },
  {
   "cell_type": "code",
   "execution_count": null,
   "id": "5dacedfc",
   "metadata": {},
   "outputs": [],
   "source": [
    "# import configs into fair\n",
    "fill(f.climate_configs[\"ocean_heat_capacity\"], df_configs.loc[:, \"c1\":\"c3\"].values)\n",
    "fill(f.climate_configs[\"ocean_heat_transfer\"], df_configs.loc[:, \"kappa1\":\"kappa3\"].values)\n",
    "fill(f.climate_configs[\"deep_ocean_efficacy\"], df_configs[\"epsilon\"].values.squeeze())\n",
    "fill(f.climate_configs[\"gamma_autocorrelation\"], df_configs[\"gamma\"].values.squeeze())\n",
    "fill(f.climate_configs[\"sigma_eta\"], df_configs[\"sigma_eta\"].values.squeeze())\n",
    "fill(f.climate_configs[\"sigma_xi\"], df_configs[\"sigma_xi\"].values.squeeze())\n",
    "fill(f.climate_configs[\"seed\"], df_configs[\"seed\"])\n",
    "fill(f.climate_configs[\"stochastic_run\"], True)\n",
    "fill(f.climate_configs[\"use_seed\"], True)\n",
    "fill(f.climate_configs[\"forcing_4co2\"], df_configs[\"F_4xCO2\"])"
   ]
  },
  {
   "cell_type": "markdown",
   "id": "24bd233f",
   "metadata": {},
   "source": [
    "Note: we have initialised FaIR to be 0.4C in all ocean layers in 1980; effectively assuming the 1980 conditions are equilibrium. This isn't correct as in 1980 we are in a transient regime; the ocean has warmed by a non-zero, but less than equilibrium, amount."
   ]
  },
  {
   "cell_type": "code",
   "execution_count": null,
   "id": "b637c33c",
   "metadata": {},
   "outputs": [],
   "source": [
    "df_fair1980 = pd.read_csv('../output/fair_1980_state.csv', index_col=0)\n",
    "df_fair1980"
   ]
  },
  {
   "cell_type": "code",
   "execution_count": null,
   "id": "330a3c19",
   "metadata": {},
   "outputs": [],
   "source": [
    "# initial conditions\n",
    "initialise(f.forcing, df_frida.loc[1980, 'GHG forcing'])\n",
    "fill(f.temperature, df_fair1980.values, timebounds=1980, scenario='frida')\n",
    "#initialise(f.temperature, 0)\n",
    "#fill(f.temperature, df_frida.loc[1980, 'Observed warming'], layer=0, timebounds=1980)"
   ]
  },
  {
   "cell_type": "code",
   "execution_count": null,
   "id": "50364152",
   "metadata": {},
   "outputs": [],
   "source": [
    "f.run()"
   ]
  },
  {
   "cell_type": "code",
   "execution_count": null,
   "id": "183d85ef",
   "metadata": {},
   "outputs": [],
   "source": [
    "df_ar6 = pd.read_csv('../data/AR6_GMST.csv', index_col=0)\n",
    "df_ar6"
   ]
  },
  {
   "cell_type": "code",
   "execution_count": null,
   "id": "62bcc856",
   "metadata": {},
   "outputs": [],
   "source": [
    "pl.fill_between(\n",
    "    f.timebounds, \n",
    "    np.percentile(f.temperature[:, 0, :, 0], 5, axis=1), \n",
    "    np.percentile(f.temperature[:, 0, :, 0], 95, axis=1),\n",
    "    color='0.8',\n",
    "    label = 'FAIR 5-95%'\n",
    ")\n",
    "pl.fill_between(\n",
    "    f.timebounds, \n",
    "    np.percentile(f.temperature[:, 0, :, 0], 17, axis=1), \n",
    "    np.percentile(f.temperature[:, 0, :, 0], 83, axis=1),\n",
    "    color='0.6',\n",
    "    label = 'FAIR 17-83%'\n",
    ")\n",
    "pl.plot(f.timebounds, np.median(f.temperature[:, 0, :, 0], axis=1), color='k', label='FAIR median')\n",
    "pl.plot(df_frida['Observed warming'], color='r', label='FRIDA')\n",
    "pl.plot(df_ar6.index[130:]+0.5, df_ar6.loc[1980:, 'gmst'], color='b', label='Observations')\n",
    "pl.legend(loc=\"upper left\")\n",
    "pl.xlim(1980, 2100)\n",
    "pl.ylim(0, 3.5)\n",
    "pl.ylabel('°C relative to 1850-1900')\n",
    "pl.title('Global mean surface temperature anomaly')\n",
    "pl.tight_layout()\n",
    "\n",
    "os.makedirs('../plots/', exist_ok=True)\n",
    "pl.savefig('../plots/frida_fair_climate.png')"
   ]
  },
  {
   "cell_type": "code",
   "execution_count": null,
   "id": "fc282c3d",
   "metadata": {},
   "outputs": [],
   "source": []
  }
 ],
 "metadata": {
  "kernelspec": {
   "display_name": "Python 3 (ipykernel)",
   "language": "python",
   "name": "python3"
  },
  "language_info": {
   "codemirror_mode": {
    "name": "ipython",
    "version": 3
   },
   "file_extension": ".py",
   "mimetype": "text/x-python",
   "name": "python",
   "nbconvert_exporter": "python",
   "pygments_lexer": "ipython3",
   "version": "3.11.0"
  }
 },
 "nbformat": 4,
 "nbformat_minor": 5
}
